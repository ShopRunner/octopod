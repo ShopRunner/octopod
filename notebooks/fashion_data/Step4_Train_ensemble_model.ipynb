{
 "cells": [
  {
   "cell_type": "markdown",
   "metadata": {},
   "source": [
    "# Octopod Ensemble Model Training Pipeline"
   ]
  },
  {
   "cell_type": "markdown",
   "metadata": {},
   "source": [
    "As the fourth (and final) step of this tutorial, we will train an ensemble model using the image and text models we've already trained.\n",
    "\n",
    "This notebook was run on an AWS p3.2xlarge"
   ]
  },
  {
   "cell_type": "code",
   "execution_count": 1,
   "metadata": {},
   "outputs": [],
   "source": [
    "%load_ext autoreload\n",
    "\n",
    "%autoreload 2"
   ]
  },
  {
   "cell_type": "code",
   "execution_count": 2,
   "metadata": {},
   "outputs": [],
   "source": [
    "import sys\n",
    "sys.path.append('../../')"
   ]
  },
  {
   "cell_type": "code",
   "execution_count": 3,
   "metadata": {},
   "outputs": [],
   "source": [
    "import joblib\n",
    "import pandas as pd\n",
    "\n",
    "import torch\n",
    "import torch.nn as nn\n",
    "import torch.optim as optim\n",
    "from torch.optim import lr_scheduler\n",
    "from torch.utils.data import DataLoader\n",
    "from transformers import AdamW, BertTokenizer, get_cosine_schedule_with_warmup\n",
    "\n",
    "from octopod.learner import MultiTaskLearner, MultiInputMultiTaskLearner\n",
    "from octopod.dataloader import MultiDatasetLoader\n",
    "from octopod.ensemble import OctopodEnsembleDataset, BertResnetEnsembleForMultiTaskClassification"
   ]
  },
  {
   "cell_type": "markdown",
   "metadata": {},
   "source": [
    "## Load in train and validation datasets"
   ]
  },
  {
   "cell_type": "markdown",
   "metadata": {},
   "source": [
    "First we load in the csv's we created in Step 1.\n",
    "Remember to change the path if you stored your data somewhere other than the default."
   ]
  },
  {
   "cell_type": "code",
   "execution_count": 4,
   "metadata": {},
   "outputs": [],
   "source": [
    "TRAIN_GENDER_DF = pd.read_csv('/home/ubuntu/fashion_dataset/gender_train.csv')"
   ]
  },
  {
   "cell_type": "code",
   "execution_count": 5,
   "metadata": {},
   "outputs": [],
   "source": [
    "VALID_GENDER_DF = pd.read_csv('/home/ubuntu/fashion_dataset/gender_valid.csv')"
   ]
  },
  {
   "cell_type": "code",
   "execution_count": 6,
   "metadata": {},
   "outputs": [],
   "source": [
    "TRAIN_SEASON_DF = pd.read_csv('/home/ubuntu/fashion_dataset/season_train.csv')"
   ]
  },
  {
   "cell_type": "code",
   "execution_count": 7,
   "metadata": {},
   "outputs": [],
   "source": [
    "VALID_SEASON_DF = pd.read_csv('/home/ubuntu/fashion_dataset/season_valid.csv')"
   ]
  },
  {
   "cell_type": "markdown",
   "metadata": {},
   "source": [
    "You will most likely have to alter this to however big your batches can be on your machine"
   ]
  },
  {
   "cell_type": "code",
   "execution_count": 8,
   "metadata": {},
   "outputs": [],
   "source": [
    "batch_size = 128"
   ]
  },
  {
   "cell_type": "code",
   "execution_count": 9,
   "metadata": {},
   "outputs": [],
   "source": [
    "bert_tok = BertTokenizer.from_pretrained(\n",
    "    'bert-base-uncased',\n",
    "    do_lower_case=True\n",
    ")\n",
    "\n",
    "max_seq_length = 128 "
   ]
  },
  {
   "cell_type": "code",
   "execution_count": 10,
   "metadata": {},
   "outputs": [],
   "source": [
    "gender_train_dataset = OctopodEnsembleDataset(\n",
    "    text_inputs=TRAIN_GENDER_DF['productDisplayName'],\n",
    "    img_inputs=TRAIN_GENDER_DF['image_urls'],\n",
    "    y=TRAIN_GENDER_DF['gender_cat'],\n",
    "    tokenizer=bert_tok,\n",
    "    max_seq_length=max_seq_length,\n",
    "    transform='train',\n",
    "    crop_transform='train'\n",
    "\n",
    ")\n",
    "gender_valid_dataset = OctopodEnsembleDataset(\n",
    "    text_inputs=VALID_GENDER_DF['productDisplayName'],\n",
    "    img_inputs=VALID_GENDER_DF['image_urls'],\n",
    "    y=VALID_GENDER_DF['gender_cat'],\n",
    "    tokenizer=bert_tok,\n",
    "    max_seq_length=max_seq_length,\n",
    "    transform='val',\n",
    "    crop_transform='val'\n",
    "\n",
    ")\n",
    "\n",
    "season_train_dataset = OctopodEnsembleDataset(\n",
    "    text_inputs=TRAIN_SEASON_DF['productDisplayName'],\n",
    "    img_inputs=TRAIN_SEASON_DF['image_urls'],\n",
    "    y=TRAIN_SEASON_DF['season_cat'],\n",
    "    tokenizer=bert_tok,\n",
    "    max_seq_length=max_seq_length,\n",
    "    transform='train',\n",
    "    crop_transform='train'\n",
    "\n",
    ")\n",
    "season_valid_dataset = OctopodEnsembleDataset(\n",
    "    text_inputs=VALID_SEASON_DF['productDisplayName'],\n",
    "    img_inputs=VALID_SEASON_DF['image_urls'],\n",
    "    y=VALID_SEASON_DF['season_cat'],\n",
    "    tokenizer=bert_tok,\n",
    "    max_seq_length=max_seq_length,\n",
    "    transform='val',\n",
    "    crop_transform='val'\n",
    ")"
   ]
  },
  {
   "cell_type": "markdown",
   "metadata": {},
   "source": [
    "We then put the datasets into a dictionary of dataloaders.\n",
    "\n",
    "Each task is a key."
   ]
  },
  {
   "cell_type": "code",
   "execution_count": 11,
   "metadata": {},
   "outputs": [],
   "source": [
    "train_dataloaders_dict = {\n",
    "    'gender': DataLoader(gender_train_dataset, batch_size=batch_size, shuffle=True, num_workers=2),\n",
    "    'season': DataLoader(season_train_dataset, batch_size=batch_size, shuffle=True, num_workers=2),\n",
    "}\n",
    "valid_dataloaders_dict = {\n",
    "    'gender': DataLoader(gender_valid_dataset, batch_size=batch_size, shuffle=False, num_workers=2),\n",
    "    'season': DataLoader(season_valid_dataset, batch_size=batch_size, shuffle=False, num_workers=2),\n",
    "}"
   ]
  },
  {
   "cell_type": "code",
   "execution_count": 12,
   "metadata": {},
   "outputs": [
    {
     "data": {
      "text/plain": [
       "366"
      ]
     },
     "execution_count": 12,
     "metadata": {},
     "output_type": "execute_result"
    }
   ],
   "source": [
    "TrainLoader = MultiDatasetLoader(loader_dict=train_dataloaders_dict)\n",
    "len(TrainLoader)"
   ]
  },
  {
   "cell_type": "code",
   "execution_count": 13,
   "metadata": {},
   "outputs": [
    {
     "data": {
      "text/plain": [
       "123"
      ]
     },
     "execution_count": 13,
     "metadata": {},
     "output_type": "execute_result"
    }
   ],
   "source": [
    "ValidLoader = MultiDatasetLoader(\n",
    "    loader_dict=valid_dataloaders_dict,\n",
    "    shuffle=False\n",
    ")\n",
    "len(ValidLoader)"
   ]
  },
  {
   "cell_type": "markdown",
   "metadata": {},
   "source": [
    "Create Model and Learner\n",
    "==="
   ]
  },
  {
   "cell_type": "markdown",
   "metadata": {},
   "source": [
    "Since the image model could potentially have multiple Resnets for different subsets of tasks, we need to create an `image_task_dict` that splits up the tasks grouped by the Resnet they use.\n",
    "\n",
    "This version uses the same resnet for gender and season, but we could just as easily have trained separate models for each task."
   ]
  },
  {
   "cell_type": "code",
   "execution_count": 14,
   "metadata": {},
   "outputs": [],
   "source": [
    "image_task_dict = {\n",
    "    'gender_season': {\n",
    "        'gender': TRAIN_GENDER_DF['gender_cat'].nunique(),\n",
    "        'season': TRAIN_SEASON_DF['season_cat'].nunique()\n",
    "    }  \n",
    "}"
   ]
  },
  {
   "cell_type": "markdown",
   "metadata": {},
   "source": [
    "We still need to create the `new_task_dict` for the learner."
   ]
  },
  {
   "cell_type": "code",
   "execution_count": 15,
   "metadata": {},
   "outputs": [],
   "source": [
    "new_task_dict = {\n",
    "    'gender': TRAIN_GENDER_DF['gender_cat'].nunique(),\n",
    "    'season': TRAIN_SEASON_DF['season_cat'].nunique()\n",
    "}"
   ]
  },
  {
   "cell_type": "code",
   "execution_count": 16,
   "metadata": {},
   "outputs": [
    {
     "name": "stdout",
     "output_type": "stream",
     "text": [
      "cuda:0\n"
     ]
    }
   ],
   "source": [
    "device = torch.device('cuda:0' if torch.cuda.is_available() else 'cpu')\n",
    "print(device)"
   ]
  },
  {
   "cell_type": "markdown",
   "metadata": {},
   "source": [
    "We first initialize the model by setting up the right shape with the image_task_dict."
   ]
  },
  {
   "cell_type": "code",
   "execution_count": 17,
   "metadata": {},
   "outputs": [],
   "source": [
    "model = BertResnetEnsembleForMultiTaskClassification(\n",
    "    image_task_dict=image_task_dict\n",
    ")"
   ]
  },
  {
   "cell_type": "markdown",
   "metadata": {},
   "source": [
    "We then load in the existing models by specifying the folder where the models live and their id's."
   ]
  },
  {
   "cell_type": "code",
   "execution_count": 18,
   "metadata": {},
   "outputs": [],
   "source": [
    "resnet_model_id_dict = {\n",
    "    'gender_season': 'IMAGE_MODEL1'\n",
    "}"
   ]
  },
  {
   "cell_type": "code",
   "execution_count": 19,
   "metadata": {},
   "outputs": [],
   "source": [
    "model.load_core_models(\n",
    "    folder='/home/ubuntu/fashion_dataset/models/',\n",
    "    bert_model_id='TEXT_MODEL1',\n",
    "    resnet_model_id_dict=resnet_model_id_dict\n",
    ")"
   ]
  },
  {
   "cell_type": "markdown",
   "metadata": {},
   "source": [
    "We've set some helper methods that will freeze the core bert and resnets for you if you only want to train the new layers. As with all other aspects of training, this is likely to require some experimentation to determine what works for your problem."
   ]
  },
  {
   "cell_type": "markdown",
   "metadata": {},
   "source": [
    "You will likely need to explore different values in this section to find some that work\n",
    "for your particular model."
   ]
  },
  {
   "cell_type": "code",
   "execution_count": 20,
   "metadata": {},
   "outputs": [],
   "source": [
    "model.freeze_bert()\n",
    "model.freeze_resnets()\n",
    "\n",
    "loss_function = nn.CrossEntropyLoss()\n",
    "\n",
    "lr_last = 1e-3\n",
    "lr_main = 1e-5\n",
    "\n",
    "lr_list = [\n",
    "    {'params': model.bert.parameters(), 'lr': lr_main},\n",
    "    {'params': model.dropout.parameters(), 'lr': lr_main},   \n",
    "    {'params': model.image_resnets.parameters(), 'lr': lr_main},\n",
    "    {'params': model.image_dense_layers.parameters(), 'lr': lr_main},\n",
    "    {'params': model.ensemble_layers.parameters(), 'lr': lr_last},\n",
    "    {'params': model.classifiers.parameters(), 'lr': lr_last},\n",
    "]\n",
    "\n",
    "optimizer = optim.Adam(lr_list)\n",
    "\n",
    "exp_lr_scheduler = lr_scheduler.StepLR(optimizer, step_size= 4, gamma= 0.1)"
   ]
  },
  {
   "cell_type": "code",
   "execution_count": 21,
   "metadata": {},
   "outputs": [],
   "source": [
    "learn = MultiInputMultiTaskLearner(model, TrainLoader, ValidLoader, new_task_dict)"
   ]
  },
  {
   "cell_type": "markdown",
   "metadata": {},
   "source": [
    "Train Model\n",
    "==="
   ]
  },
  {
   "cell_type": "markdown",
   "metadata": {},
   "source": [
    "As your model trains, you can see some output of how the model is performing overall and how it is doing on each individual task."
   ]
  },
  {
   "cell_type": "code",
   "execution_count": 22,
   "metadata": {
    "scrolled": false
   },
   "outputs": [
    {
     "data": {
      "text/html": [
       "<table border=\"1\" class=\"dataframe\">\n",
       "  <thead>\n",
       "    <tr style=\"text-align: left;\">\n",
       "      <th>train_loss</th>\n",
       "      <th>val_loss</th>\n",
       "      <th>gender_train_loss</th>\n",
       "      <th>gender_val_loss</th>\n",
       "      <th>gender_acc</th>\n",
       "      <th>season_train_loss</th>\n",
       "      <th>season_val_loss</th>\n",
       "      <th>season_acc</th>\n",
       "      <th>time</th>\n",
       "    </tr>\n",
       "  </thead>\n",
       "  <tbody>\n",
       "    <tr>\n",
       "      <td>0.337576</td>\n",
       "      <td>0.346522</td>\n",
       "      <td>0.060817</td>\n",
       "      <td>0.047060</td>\n",
       "      <td>0.987166</td>\n",
       "      <td>0.706797</td>\n",
       "      <td>0.745998</td>\n",
       "      <td>0.701307</td>\n",
       "      <td>04:32</td>\n",
       "    </tr>\n",
       "    <tr>\n",
       "      <td>0.300118</td>\n",
       "      <td>0.337571</td>\n",
       "      <td>0.034276</td>\n",
       "      <td>0.032321</td>\n",
       "      <td>0.990093</td>\n",
       "      <td>0.654773</td>\n",
       "      <td>0.744771</td>\n",
       "      <td>0.700405</td>\n",
       "      <td>04:33</td>\n",
       "    </tr>\n",
       "    <tr>\n",
       "      <td>0.294485</td>\n",
       "      <td>0.315664</td>\n",
       "      <td>0.031841</td>\n",
       "      <td>0.033477</td>\n",
       "      <td>0.990431</td>\n",
       "      <td>0.644874</td>\n",
       "      <td>0.692097</td>\n",
       "      <td>0.723082</td>\n",
       "      <td>04:33</td>\n",
       "    </tr>\n",
       "    <tr>\n",
       "      <td>0.289034</td>\n",
       "      <td>0.353571</td>\n",
       "      <td>0.029288</td>\n",
       "      <td>0.031247</td>\n",
       "      <td>0.990656</td>\n",
       "      <td>0.635557</td>\n",
       "      <td>0.783547</td>\n",
       "      <td>0.692296</td>\n",
       "      <td>04:33</td>\n",
       "    </tr>\n",
       "    <tr>\n",
       "      <td>0.280033</td>\n",
       "      <td>0.302999</td>\n",
       "      <td>0.024496</td>\n",
       "      <td>0.026899</td>\n",
       "      <td>0.991332</td>\n",
       "      <td>0.620940</td>\n",
       "      <td>0.671313</td>\n",
       "      <td>0.723382</td>\n",
       "      <td>04:33</td>\n",
       "    </tr>\n",
       "    <tr>\n",
       "      <td>0.278021</td>\n",
       "      <td>0.296622</td>\n",
       "      <td>0.023456</td>\n",
       "      <td>0.025382</td>\n",
       "      <td>0.991782</td>\n",
       "      <td>0.617632</td>\n",
       "      <td>0.658451</td>\n",
       "      <td>0.732542</td>\n",
       "      <td>04:33</td>\n",
       "    </tr>\n",
       "    <tr>\n",
       "      <td>0.276779</td>\n",
       "      <td>0.288762</td>\n",
       "      <td>0.022753</td>\n",
       "      <td>0.024146</td>\n",
       "      <td>0.991782</td>\n",
       "      <td>0.615671</td>\n",
       "      <td>0.641755</td>\n",
       "      <td>0.739601</td>\n",
       "      <td>04:33</td>\n",
       "    </tr>\n",
       "    <tr>\n",
       "      <td>0.276053</td>\n",
       "      <td>0.292702</td>\n",
       "      <td>0.022104</td>\n",
       "      <td>0.025689</td>\n",
       "      <td>0.991895</td>\n",
       "      <td>0.614843</td>\n",
       "      <td>0.648892</td>\n",
       "      <td>0.738099</td>\n",
       "      <td>04:33</td>\n",
       "    </tr>\n",
       "    <tr>\n",
       "      <td>0.272742</td>\n",
       "      <td>0.293113</td>\n",
       "      <td>0.021063</td>\n",
       "      <td>0.025314</td>\n",
       "      <td>0.991444</td>\n",
       "      <td>0.608504</td>\n",
       "      <td>0.650351</td>\n",
       "      <td>0.738700</td>\n",
       "      <td>04:33</td>\n",
       "    </tr>\n",
       "    <tr>\n",
       "      <td>0.272881</td>\n",
       "      <td>0.291344</td>\n",
       "      <td>0.022217</td>\n",
       "      <td>0.024019</td>\n",
       "      <td>0.991895</td>\n",
       "      <td>0.607287</td>\n",
       "      <td>0.647951</td>\n",
       "      <td>0.740201</td>\n",
       "      <td>04:33</td>\n",
       "    </tr>\n",
       "  </tbody>\n",
       "</table>"
      ],
      "text/plain": [
       "<IPython.core.display.HTML object>"
      ]
     },
     "metadata": {},
     "output_type": "display_data"
    },
    {
     "name": "stdout",
     "output_type": "stream",
     "text": [
      "Epoch 6 best model saved with loss of 0.2887622564998693\n"
     ]
    }
   ],
   "source": [
    "learn.fit(\n",
    "    num_epochs=10,\n",
    "    loss_function=loss_function,\n",
    "    scheduler=exp_lr_scheduler,\n",
    "    step_scheduler_on_batch=False,\n",
    "    optimizer=optimizer,\n",
    "    device=device,\n",
    "    best_model=True\n",
    ")"
   ]
  },
  {
   "cell_type": "markdown",
   "metadata": {},
   "source": [
    "The ensemble model performs better on both the gender and season tasks than either the image or text model alone."
   ]
  },
  {
   "cell_type": "markdown",
   "metadata": {},
   "source": [
    "Checking validation data\n",
    "==="
   ]
  },
  {
   "cell_type": "markdown",
   "metadata": {},
   "source": [
    "We provide a method on the learner called `get_val_preds`, which makes predictions on the validation data. You can then use this to analyze your model's performance in more detail."
   ]
  },
  {
   "cell_type": "code",
   "execution_count": 24,
   "metadata": {},
   "outputs": [],
   "source": [
    "pred_dict = learn.get_val_preds(device)"
   ]
  },
  {
   "cell_type": "code",
   "execution_count": 25,
   "metadata": {},
   "outputs": [
    {
     "data": {
      "text/plain": [
       "{'gender': {'y_true': array([0., 2., 4., ..., 4., 2., 2.]),\n",
       "  'y_pred': array([[9.79963720e-01, 8.20267305e-05, 1.99036356e-02, 3.73025723e-05,\n",
       "          1.32717532e-05],\n",
       "         [3.16389269e-05, 1.57239319e-05, 9.99903560e-01, 2.93510820e-05,\n",
       "          1.97479749e-05],\n",
       "         [5.46117808e-05, 2.69602460e-04, 3.34556389e-05, 8.94905243e-05,\n",
       "          9.99552786e-01],\n",
       "         ...,\n",
       "         [3.90316336e-06, 2.12771658e-04, 6.02410091e-06, 2.43015779e-06,\n",
       "          9.99774754e-01],\n",
       "         [5.30419175e-06, 4.19809066e-06, 9.99900460e-01, 2.53984490e-05,\n",
       "          6.46425178e-05],\n",
       "         [8.87045371e-06, 2.76470905e-06, 9.99982119e-01, 4.77818230e-06,\n",
       "          1.44818603e-06]])},\n",
       " 'season': {'y_true': array([0., 0., 2., ..., 2., 3., 3.]),\n",
       "  'y_pred': array([[8.35114121e-01, 1.27773534e-03, 1.58392146e-01, 5.21592796e-03],\n",
       "         [1.97143480e-01, 2.40618410e-03, 7.77141452e-01, 2.33088844e-02],\n",
       "         [9.69123393e-02, 1.56298105e-03, 8.78993690e-01, 2.25310437e-02],\n",
       "         ...,\n",
       "         [1.64832368e-01, 3.55263762e-02, 3.34718585e-01, 4.64922667e-01],\n",
       "         [2.44977069e-03, 4.62330849e-04, 4.42935601e-02, 9.52794433e-01],\n",
       "         [5.44858491e-03, 1.08411082e-03, 2.78785955e-02, 9.65588748e-01]])}}"
      ]
     },
     "execution_count": 25,
     "metadata": {},
     "output_type": "execute_result"
    }
   ],
   "source": [
    "pred_dict"
   ]
  },
  {
   "cell_type": "markdown",
   "metadata": {},
   "source": [
    "Save/Export Model\n",
    "==="
   ]
  },
  {
   "cell_type": "markdown",
   "metadata": {},
   "source": [
    "The ensemble model can also be saved or exported."
   ]
  },
  {
   "cell_type": "code",
   "execution_count": null,
   "metadata": {},
   "outputs": [],
   "source": [
    "model.save(folder='/home/ubuntu/fashion_dataset/models/', model_id='ENSEMBLE_MODEL1')"
   ]
  },
  {
   "cell_type": "code",
   "execution_count": 29,
   "metadata": {},
   "outputs": [],
   "source": [
    "model.export(folder='/home/ubuntu/fashion_dataset/models/', model_id='ENSEMBLE_MODEL1')"
   ]
  }
 ],
 "metadata": {
  "kernelspec": {
   "display_name": "Python 3",
   "language": "python",
   "name": "python3"
  },
  "language_info": {
   "codemirror_mode": {
    "name": "ipython",
    "version": 3
   },
   "file_extension": ".py",
   "mimetype": "text/x-python",
   "name": "python",
   "nbconvert_exporter": "python",
   "pygments_lexer": "ipython3",
   "version": "3.7.6"
  }
 },
 "nbformat": 4,
 "nbformat_minor": 2
}
