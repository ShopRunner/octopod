{
 "cells": [
  {
   "cell_type": "markdown",
   "metadata": {},
   "source": [
    "As the first step of this tutorial, we will generate some synthetic data to train a model.\n",
    "\n",
    "This code generates solid color swatches and striped color swatches.\n",
    "\n",
    "You can see the code in `generate_swatches.py`.\n",
    "\n",
    "Note: this code will create a directory called `data` filled with png files."
   ]
  },
  {
   "cell_type": "code",
   "execution_count": 1,
   "metadata": {},
   "outputs": [],
   "source": [
    "%load_ext autoreload\n",
    "\n",
    "%autoreload 2"
   ]
  },
  {
   "cell_type": "code",
   "execution_count": 2,
   "metadata": {},
   "outputs": [],
   "source": [
    "import pandas as pd\n",
    "from sklearn.model_selection import train_test_split"
   ]
  },
  {
   "cell_type": "code",
   "execution_count": 3,
   "metadata": {},
   "outputs": [],
   "source": [
    "from generate_swatches import generate_color_swatches, generate_pattern_swatches"
   ]
  },
  {
   "cell_type": "markdown",
   "metadata": {},
   "source": [
    "Generate Synthetic Data\n",
    "==="
   ]
  },
  {
   "cell_type": "code",
   "execution_count": 4,
   "metadata": {},
   "outputs": [
    {
     "name": "stderr",
     "output_type": "stream",
     "text": [

      "/home/ubuntu/octopod/notebooks/synthetic_data/generate_swatches.py:62: SettingWithCopyWarning: \n",
      "A value is trying to be set on a copy of a slice from a DataFrame.\n",
      "Try using .loc[row_indexer,col_indexer] = value instead\n",
      "\n",
      "See the caveats in the documentation: https://pandas.pydata.org/pandas-docs/stable/user_guide/indexing.html#returning-a-view-versus-a-copy\n",
      "  final_df['image_locs'] = image_locs\n"
     ]
    }
   ],
   "source": [
    "generate_color_swatches()"
   ]
  },
  {
   "cell_type": "code",
   "execution_count": 5,
   "metadata": {},
   "outputs": [],
   "source": [
    "generate_pattern_swatches()"
   ]
  },
  {
   "cell_type": "markdown",
   "metadata": {},
   "source": [
    "Note: if you changed the default storage location above, you will need to alter the next two lines."
   ]
  },
  {
   "cell_type": "code",
   "execution_count": 6,
   "metadata": {},
   "outputs": [],
   "source": [
    "COLOR_DATASET_PATH = 'data/color_swatches'"
   ]
  },
  {
   "cell_type": "code",
   "execution_count": 7,
   "metadata": {},
   "outputs": [],
   "source": [
    "PATTERN_DATASET_PATH = 'data/pattern_swatches'"
   ]
  },
  {
   "cell_type": "markdown",
   "metadata": {},
   "source": [
    "Format color data\n",
    "==="
   ]
  },
  {
   "cell_type": "markdown",
   "metadata": {},
   "source": [
    "Now we will put the data in the format needed for Octopod."
   ]
  },
  {
   "cell_type": "code",
   "execution_count": 8,
   "metadata": {},
   "outputs": [],
   "source": [
    "color_df = pd.read_csv(f'{COLOR_DATASET_PATH}/color_dataset.csv')"
   ]
  },
  {
   "cell_type": "code",
   "execution_count": 9,
   "metadata": {},
   "outputs": [
    {
     "data": {
      "text/html": [
       "<div>\n",
       "<style scoped>\n",
       "    .dataframe tbody tr th:only-of-type {\n",
       "        vertical-align: middle;\n",
       "    }\n",
       "\n",
       "    .dataframe tbody tr th {\n",
       "        vertical-align: top;\n",
       "    }\n",
       "\n",
       "    .dataframe thead th {\n",
       "        text-align: right;\n",
       "    }\n",
       "</style>\n",
       "<table border=\"1\" class=\"dataframe\">\n",
       "  <thead>\n",
       "    <tr style=\"text-align: right;\">\n",
       "      <th></th>\n",
       "      <th>complex_color</th>\n",
       "      <th>simple_color</th>\n",
       "      <th>rgb</th>\n",
       "      <th>image_locs</th>\n",
       "    </tr>\n",
       "  </thead>\n",
       "  <tbody>\n",
       "    <tr>\n",
       "      <th>0</th>\n",
       "      <td>cloudy blue</td>\n",
       "      <td>blue</td>\n",
       "      <td>(172, 194, 217)</td>\n",
       "      <td>/home/ubuntu/octopod/notebooks/synthetic_data/da...</td>\n",
       "    </tr>\n",
       "    <tr>\n",
       "      <th>1</th>\n",
       "      <td>dark pastel green</td>\n",
       "      <td>green</td>\n",
       "      <td>(86, 174, 87)</td>\n",

       "      <td>/home/ubuntu/octopod/notebooks/synthetic_data/da...</td>\n",
       "    </tr>\n",
       "    <tr>\n",
       "      <th>2</th>\n",
       "      <td>electric lime</td>\n",
       "      <td>green</td>\n",
       "      <td>(168, 255, 4)</td>\n",
       "      <td>/home/ubuntu/octopod/notebooks/synthetic_data/da...</td>\n",
       "    </tr>\n",
       "    <tr>\n",
       "      <th>3</th>\n",
       "      <td>fresh green</td>\n",
       "      <td>green</td>\n",
       "      <td>(105, 216, 79)</td>\n",
       "      <td>/home/ubuntu/octopod/notebooks/synthetic_data/da...</td>\n",
       "    </tr>\n",
       "    <tr>\n",
       "      <th>4</th>\n",
       "      <td>nasty green</td>\n",
       "      <td>green</td>\n",
       "      <td>(112, 178, 63)</td>\n",
       "      <td>/home/ubuntu/octopod/notebooks/synthetic_data/da...</td>\n",
       "    </tr>\n",
       "  </tbody>\n",
       "</table>\n",
       "</div>"
      ],
      "text/plain": [
       "       complex_color simple_color              rgb  \\\n",
       "0        cloudy blue         blue  (172, 194, 217)   \n",
       "1  dark pastel green        green    (86, 174, 87)   \n",
       "2      electric lime        green    (168, 255, 4)   \n",
       "3        fresh green        green   (105, 216, 79)   \n",
       "4        nasty green        green   (112, 178, 63)   \n",
       "\n",
       "                                          image_locs  \n",
       "0  /home/ubuntu/octopod/notebooks/synthetic_data/da...  \n",
       "1  /home/ubuntu/octopod/notebooks/synthetic_data/da...  \n",
       "2  /home/ubuntu/octopod/notebooks/synthetic_data/da...  \n",
       "3  /home/ubuntu/octopod/notebooks/synthetic_data/da...  \n",
       "4  /home/ubuntu/octopod/notebooks/synthetic_data/da...  "
      ]
     },
     "execution_count": 9,
     "metadata": {},
     "output_type": "execute_result"
    }
   ],
   "source": [
    "color_df.head()"
   ]
  },
  {
   "cell_type": "markdown",
   "metadata": {},
   "source": [
    "You can see the generated csv `color_dataset.csv` contains four columns:\n",
    "- complex-color: the value we will use for the text\n",
    "- simple_color: the value we will try to predict\n",
    "- rgb: the raw RGB value used to generate the swatch\n",
    "- image_locs: the location of where each image is stored"
   ]
  },
  {
   "cell_type": "markdown",
   "metadata": {},
   "source": [
    "We set `simple_color` to be a pandas category type"
   ]
  },
  {
   "cell_type": "code",
   "execution_count": 10,
   "metadata": {},
   "outputs": [],
   "source": [
    "color_df['simple_color'] = color_df['simple_color'].astype('category')"
   ]
  },
  {
   "cell_type": "markdown",
   "metadata": {},
   "source": [
    "We create a new column called `simple_color_cat` that contains the category to predict as an integer.\n",
    "This is an important step because Octopod does not natively handle categories as text"
   ]
  },
  {
   "cell_type": "code",
   "execution_count": 11,
   "metadata": {},
   "outputs": [],
   "source": [
    "color_df['simple_color_cat'] = color_df['simple_color'].cat.codes"
   ]
  },
  {
   "cell_type": "code",
   "execution_count": 12,
   "metadata": {},
   "outputs": [
    {
     "data": {
      "text/plain": [
       "{'blue': 0, 'green': 1}"
      ]
     },
     "execution_count": 12,
     "metadata": {},
     "output_type": "execute_result"
    }
   ],
   "source": [
    "# Category mapping\n",
    "{label: i for i, label in enumerate(color_df['simple_color'].cat.categories)}"
   ]
  },
  {
   "cell_type": "markdown",
   "metadata": {},
   "source": [
    "Note: you will need to save this mapping for later so that you can use your model to make predictions.\n",
    "Since this is a simple model, we won't save it, but for a real project, we would store it somewhere."
   ]
  },
  {
   "cell_type": "code",
   "execution_count": 13,
   "metadata": {},
   "outputs": [
    {
     "data": {
      "text/html": [
       "<div>\n",
       "<style scoped>\n",
       "    .dataframe tbody tr th:only-of-type {\n",
       "        vertical-align: middle;\n",
       "    }\n",
       "\n",
       "    .dataframe tbody tr th {\n",
       "        vertical-align: top;\n",
       "    }\n",
       "\n",
       "    .dataframe thead th {\n",
       "        text-align: right;\n",
       "    }\n",
       "</style>\n",
       "<table border=\"1\" class=\"dataframe\">\n",
       "  <thead>\n",
       "    <tr style=\"text-align: right;\">\n",
       "      <th></th>\n",
       "      <th>complex_color</th>\n",
       "      <th>simple_color</th>\n",
       "      <th>rgb</th>\n",
       "      <th>image_locs</th>\n",
       "      <th>simple_color_cat</th>\n",
       "    </tr>\n",
       "  </thead>\n",
       "  <tbody>\n",
       "    <tr>\n",
       "      <th>0</th>\n",
       "      <td>cloudy blue</td>\n",
       "      <td>blue</td>\n",
       "      <td>(172, 194, 217)</td>\n",
       "      <td>/home/ubuntu/octopod/notebooks/synthetic_data/da...</td>\n",
       "      <td>0</td>\n",
       "    </tr>\n",
       "    <tr>\n",
       "      <th>1</th>\n",
       "      <td>dark pastel green</td>\n",
       "      <td>green</td>\n",
       "      <td>(86, 174, 87)</td>\n",

       "      <td>/home/ubuntu/octopod/notebooks/synthetic_data/da...</td>\n",
       "      <td>1</td>\n",
       "    </tr>\n",
       "    <tr>\n",
       "      <th>2</th>\n",
       "      <td>electric lime</td>\n",
       "      <td>green</td>\n",
       "      <td>(168, 255, 4)</td>\n",
       "      <td>/home/ubuntu/octopod/notebooks/synthetic_data/da...</td>\n",
       "      <td>1</td>\n",
       "    </tr>\n",
       "    <tr>\n",
       "      <th>3</th>\n",
       "      <td>fresh green</td>\n",
       "      <td>green</td>\n",
       "      <td>(105, 216, 79)</td>\n",
       "      <td>/home/ubuntu/octopod/notebooks/synthetic_data/da...</td>\n",
       "      <td>1</td>\n",
       "    </tr>\n",
       "    <tr>\n",
       "      <th>4</th>\n",
       "      <td>nasty green</td>\n",
       "      <td>green</td>\n",
       "      <td>(112, 178, 63)</td>\n",
       "      <td>/home/ubuntu/octopod/notebooks/synthetic_data/da...</td>\n",
       "      <td>1</td>\n",
       "    </tr>\n",
       "  </tbody>\n",
       "</table>\n",
       "</div>"
      ],
      "text/plain": [
       "       complex_color simple_color              rgb  \\\n",
       "0        cloudy blue         blue  (172, 194, 217)   \n",
       "1  dark pastel green        green    (86, 174, 87)   \n",
       "2      electric lime        green    (168, 255, 4)   \n",
       "3        fresh green        green   (105, 216, 79)   \n",
       "4        nasty green        green   (112, 178, 63)   \n",
       "\n",
       "                                          image_locs  simple_color_cat  \n",
       "0  /home/ubuntu/octopod/notebooks/synthetic_data/da...                 0  \n",
       "1  /home/ubuntu/octopod/notebooks/synthetic_data/da...                 1  \n",
       "2  /home/ubuntu/octopod/notebooks/synthetic_data/da...                 1  \n",
       "3  /home/ubuntu/octopod/notebooks/synthetic_data/da...                 1  \n",
       "4  /home/ubuntu/octopod/notebooks/synthetic_data/da...                 1  "
      ]
     },
     "execution_count": 13,
     "metadata": {},
     "output_type": "execute_result"
    }
   ],
   "source": [
    "color_df.head()"
   ]
  },
  {
   "cell_type": "markdown",
   "metadata": {},
   "source": [
    "Now our color data is in the right format for Octopod so we'll split it and save it again."
   ]
  },
  {
   "cell_type": "code",
   "execution_count": 14,
   "metadata": {},
   "outputs": [],
   "source": [
    "color_train_df, color_valid_df = train_test_split(color_df, train_size=0.75, random_state=17)"
   ]
  },
  {
   "cell_type": "code",
   "execution_count": 15,
   "metadata": {},
   "outputs": [],
   "source": [
    "color_train_df.to_csv(f'{COLOR_DATASET_PATH}/color_train.csv', index=False)"
   ]
  },
  {
   "cell_type": "code",
   "execution_count": 16,
   "metadata": {},
   "outputs": [],
   "source": [
    "color_valid_df.to_csv(f'{COLOR_DATASET_PATH}/color_valid.csv', index=False)"
   ]
  },
  {
   "cell_type": "markdown",
   "metadata": {},
   "source": [
    "Format pattern data\n",
    "==="
   ]
  },
  {
   "cell_type": "code",
   "execution_count": 17,
   "metadata": {},
   "outputs": [],
   "source": [
    "pattern_df = pd.read_csv(f'{PATTERN_DATASET_PATH}/pattern_dataset.csv')"
   ]
  },
  {
   "cell_type": "code",
   "execution_count": 18,
   "metadata": {},
   "outputs": [
    {
     "data": {
      "text/html": [
       "<div>\n",
       "<style scoped>\n",
       "    .dataframe tbody tr th:only-of-type {\n",
       "        vertical-align: middle;\n",
       "    }\n",
       "\n",
       "    .dataframe tbody tr th {\n",
       "        vertical-align: top;\n",
       "    }\n",
       "\n",
       "    .dataframe thead th {\n",
       "        text-align: right;\n",
       "    }\n",
       "</style>\n",
       "<table border=\"1\" class=\"dataframe\">\n",
       "  <thead>\n",
       "    <tr style=\"text-align: right;\">\n",
       "      <th></th>\n",
       "      <th>pattern_type</th>\n",
       "      <th>image_locs</th>\n",
       "    </tr>\n",
       "  </thead>\n",
       "  <tbody>\n",
       "    <tr>\n",
       "      <th>0</th>\n",
       "      <td>striped</td>\n",
       "    </tr>\n",
       "    <tr>\n",
       "      <th>1</th>\n",
       "      <td>striped</td>\n",

       "      <td>/home/ubuntu/octopod/notebooks/synthetic_data/da...</td>\n",
       "    </tr>\n",
       "    <tr>\n",
       "      <th>2</th>\n",
       "      <td>striped</td>\n",
       "      <td>/home/ubuntu/octopod/notebooks/synthetic_data/da...</td>\n",
       "    </tr>\n",
       "    <tr>\n",
       "      <th>3</th>\n",
       "      <td>striped</td>\n",
       "      <td>/home/ubuntu/octopod/notebooks/synthetic_data/da...</td>\n",
       "    </tr>\n",
       "    <tr>\n",
       "      <th>4</th>\n",
       "      <td>striped</td>\n",
       "      <td>/home/ubuntu/octopod/notebooks/synthetic_data/da...</td>\n",
       "    </tr>\n",
       "  </tbody>\n",
       "</table>\n",
       "</div>"
      ],
      "text/plain": [
       "  pattern_type                                         image_locs\n",
       "0      striped  /home/ubuntu/octopod/notebooks/synthetic_data/da...\n",
       "1      striped  /home/ubuntu/octopod/notebooks/synthetic_data/da...\n",
       "2      striped  /home/ubuntu/octopod/notebooks/synthetic_data/da...\n",
       "3      striped  /home/ubuntu/octopod/notebooks/synthetic_data/da...\n",
       "4      striped  /home/ubuntu/octopod/notebooks/synthetic_data/da..."
      ]
     },
     "execution_count": 18,
     "metadata": {},
     "output_type": "execute_result"
    }
   ],
   "source": [
    "pattern_df.head()"
   ]
  },
  {
   "cell_type": "markdown",
   "metadata": {},
   "source": [
    "You can see the generated csv `pattern_dataset.csv` contains two columns:\n",
    "- pattern_type: the value we will try to predict\n",
    "- image_locs: the location of where each image is stored"
   ]
  },
  {
   "cell_type": "markdown",
   "metadata": {},
   "source": [
    "We set `pattern_type` to be a pandas category type"
   ]
  },
  {
   "cell_type": "code",
   "execution_count": 19,
   "metadata": {},
   "outputs": [],
   "source": [
    "pattern_df['pattern_type'] = pattern_df['pattern_type'].astype('category')"
   ]
  },
  {
   "cell_type": "markdown",
   "metadata": {},
   "source": [
    "We create a new column called `pattern_type_cat` that contains the category to predict as an integer.\n",
    "This is an important step because Octopod does not natively handle categories as text"
   ]
  },
  {
   "cell_type": "code",
   "execution_count": 20,
   "metadata": {},
   "outputs": [],
   "source": [
    "pattern_df['pattern_type_cat'] = pattern_df['pattern_type'].cat.codes"
   ]
  },
  {
   "cell_type": "code",
   "execution_count": 21,
   "metadata": {},
   "outputs": [
    {
     "data": {
      "text/plain": [
       "{'solid': 0, 'striped': 1}"
      ]
     },
     "execution_count": 21,
     "metadata": {},
     "output_type": "execute_result"
    }
   ],
   "source": [
    "# Category mapping\n",
    "{label: i for i, label in enumerate(pattern_df['pattern_type'].cat.categories)}"
   ]
  },
  {
   "cell_type": "markdown",
   "metadata": {},
   "source": [
    "Note: you will need to save this mapping for later so that you can use your model to make predictions.\n",
    "Since this is a simple model, we won't save it, but for a real project, we would store it somewhere."
   ]
  },
  {
   "cell_type": "markdown",
   "metadata": {},
   "source": [
    "Since we don't have any text for our pattern data, we will fake it by just using text from the filenames.\n",
    "Note: this would be a terrible idea for a real model since the target variable is contained in the file name."
   ]
  },
  {
   "cell_type": "code",
   "execution_count": 22,
   "metadata": {},
   "outputs": [],
   "source": [
    "pattern_df['fake_text'] = [i.replace('/', ' ') for i in pattern_df['image_locs']]"
   ]
  },
  {
   "cell_type": "code",
   "execution_count": 23,
   "metadata": {},
   "outputs": [
    {
     "data": {
      "text/plain": [
       "'/home/ubuntu/octopod/notebooks/synthetic_data/data/pattern_swatches/striped_0.jpg'"
      ]
     },
     "execution_count": 23,
     "metadata": {},
     "output_type": "execute_result"
    }
   ],
   "source": [
    "pattern_df.loc[0]['image_locs']"
   ]
  },
  {
   "cell_type": "code",
   "execution_count": 24,
   "metadata": {},
   "outputs": [
    {
     "data": {
      "text/plain": [
       "' home ubuntu octopod notebooks synthetic_data data pattern_swatches striped_0.jpg'"
      ]
     },
     "execution_count": 24,
     "metadata": {},
     "output_type": "execute_result"
    }
   ],
   "source": [
    "pattern_df.loc[0]['fake_text']"
   ]
  },
  {
   "cell_type": "code",
   "execution_count": 25,
   "metadata": {},
   "outputs": [
    {
     "data": {
      "text/html": [
       "<div>\n",
       "<style scoped>\n",
       "    .dataframe tbody tr th:only-of-type {\n",
       "        vertical-align: middle;\n",
       "    }\n",
       "\n",
       "    .dataframe tbody tr th {\n",
       "        vertical-align: top;\n",
       "    }\n",
       "\n",
       "    .dataframe thead th {\n",
       "        text-align: right;\n",
       "    }\n",
       "</style>\n",
       "<table border=\"1\" class=\"dataframe\">\n",
       "  <thead>\n",
       "    <tr style=\"text-align: right;\">\n",
       "      <th></th>\n",
       "      <th>pattern_type</th>\n",
       "      <th>image_locs</th>\n",
       "      <th>pattern_type_cat</th>\n",
       "      <th>fake_text</th>\n",
       "    </tr>\n",
       "  </thead>\n",
       "  <tbody>\n",
       "    <tr>\n",
       "      <th>0</th>\n",
       "      <td>striped</td>\n",
       "      <td>/home/ubuntu/octopod/notebooks/synthetic_data/da...</td>\n",
       "      <td>1</td>\n",
       "      <td>home ubuntu octopod notebooks synthetic_data da...</td>\n",
       "    </tr>\n",
       "    <tr>\n",
       "      <th>1</th>\n",
       "      <td>striped</td>\n",
       "      <td>/home/ubuntu/octopod/notebooks/synthetic_data/da...</td>\n",
       "      <td>1</td>\n",
       "      <td>home ubuntu octopod notebooks synthetic_data da...</td>\n",
       "    </tr>\n",
       "    <tr>\n",
       "      <th>2</th>\n",
       "      <td>striped</td>\n",
       "      <td>/home/ubuntu/octopod/notebooks/synthetic_data/da...</td>\n",
       "      <td>1</td>\n",
       "      <td>home ubuntu octopod notebooks synthetic_data da...</td>\n",
       "    </tr>\n",
       "    <tr>\n",
       "      <th>3</th>\n",
       "      <td>striped</td>\n",
       "      <td>/home/ubuntu/octopod/notebooks/synthetic_data/da...</td>\n",
       "      <td>1</td>\n",
       "      <td>home ubuntu octopod notebooks synthetic_data da...</td>\n",
       "    </tr>\n",
       "    <tr>\n",
       "      <th>4</th>\n",
       "      <td>striped</td>\n",
       "      <td>/home/ubuntu/octopod/notebooks/synthetic_data/da...</td>\n",
       "      <td>1</td>\n",
       "      <td>home ubuntu octopod notebooks synthetic_data da...</td>\n",
       "    </tr>\n",
       "  </tbody>\n",
       "</table>\n",
       "</div>"
      ],
      "text/plain": [
       "  pattern_type                                         image_locs  \\\n",
       "0      striped  /home/ubuntu/octopod/notebooks/synthetic_data/da...   \n",
       "1      striped  /home/ubuntu/octopod/notebooks/synthetic_data/da...   \n",
       "2      striped  /home/ubuntu/octopod/notebooks/synthetic_data/da...   \n",
       "3      striped  /home/ubuntu/octopod/notebooks/synthetic_data/da...   \n",
       "4      striped  /home/ubuntu/octopod/notebooks/synthetic_data/da...   \n",
       "\n",
       "   pattern_type_cat                                          fake_text  \n",
       "0                 1   home ubuntu octopod notebooks synthetic_data da...  \n",
       "1                 1   home ubuntu octopod notebooks synthetic_data da...  \n",
       "2                 1   home ubuntu octopod notebooks synthetic_data da...  \n",
       "3                 1   home ubuntu octopod notebooks synthetic_data da...  \n",
       "4                 1   home ubuntu octopod notebooks synthetic_data da...  "
      ]
     },
     "execution_count": 25,
     "metadata": {},
     "output_type": "execute_result"
    }
   ],
   "source": [
    "pattern_df.head()"
   ]
  },
  {
   "cell_type": "markdown",
   "metadata": {},
   "source": [
    "Now our pattern data is in the right format for Octopod so we'll split it and save it again."
   ]
  },
  {
   "cell_type": "code",
   "execution_count": 26,
   "metadata": {},
   "outputs": [],
   "source": [
    "pattern_train_df, pattern_valid_df = train_test_split(pattern_df, train_size=0.75, random_state=17)"
   ]
  },
  {
   "cell_type": "code",
   "execution_count": 27,
   "metadata": {},
   "outputs": [],
   "source": [
    "pattern_train_df.to_csv(f'{PATTERN_DATASET_PATH}/pattern_train.csv', index=False)"
   ]
  },
  {
   "cell_type": "code",
   "execution_count": 28,
   "metadata": {},
   "outputs": [],
   "source": [
    "pattern_valid_df.to_csv(f'{PATTERN_DATASET_PATH}/pattern_valid.csv', index=False)"
   ]
  },
  {
   "cell_type": "markdown",
   "metadata": {},
   "source": [
    "Now that we have some data, move onto the notebook labeled `Step2_train_image_model.ipynb`."
   ]
  }
 ],
 "metadata": {
  "kernelspec": {
   "display_name": "Python 3",
   "language": "python",
   "name": "python3"
  },
  "language_info": {
   "codemirror_mode": {
    "name": "ipython",
    "version": 3
   },
   "file_extension": ".py",
   "mimetype": "text/x-python",
   "name": "python",
   "nbconvert_exporter": "python",
   "pygments_lexer": "ipython3",
   "version": "3.7.7"
  }
 },
 "nbformat": 4,
 "nbformat_minor": 2
}
